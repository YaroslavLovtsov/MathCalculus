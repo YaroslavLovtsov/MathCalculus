{
  "nbformat": 4,
  "nbformat_minor": 0,
  "metadata": {
    "colab": {
      "name": "Lesson03",
      "provenance": [],
      "collapsed_sections": []
    },
    "kernelspec": {
      "name": "python3",
      "display_name": "Python 3"
    }
  },
  "cells": [
    {
      "cell_type": "markdown",
      "metadata": {
        "id": "2szJZ390PdGp"
      },
      "source": [
        "__1.__ Найти предел последовательности:\r\n",
        "\r\n",
        "### $$а)\\,\\,\\,\\,\\lim_{n\\to \\infty} \\frac{(23-2n^2)(3n^2+17)^2}{4n^6+n-1}$$\r\n",
        "\r\n",
        "### $$б)\\,\\,\\,\\,\\lim_{n\\to \\infty} \\frac{(97-2n)^3}{2n(3n^2+15)+8n}$$\r\n",
        "\r\n",
        "### $$в)\\,\\,\\,\\,\\lim_{n\\to \\infty} \\frac{2n^3+13n(n+18)}{(27-n)(2n+19)^2}$$\r\n",
        "\r\n",
        "### $$г)\\,\\,\\,\\,\\lim_{n\\to \\infty} (\\sqrt{n^2+1}-n)$$\r\n",
        "\r\n",
        "### $$д)\\,\\,\\,\\,\\lim_{n\\to \\infty} \\frac{(-4)^n+5\\cdot7^n}{(-4)^{n-1}+7^{n+2}}$$\r\n",
        "\r\n",
        "### $$e)^*\\,\\,\\,\\,\\lim_{n\\to \\infty} \\Bigl(\\frac{1}{1\\cdot2}+\\frac{1}{2\\cdot3}+\\frac{1}{3\\cdot4}+...+\\frac{1}{(n-1)\\cdot n}\\Bigr)$$\r\n",
        "\r\n",
        "**Решение**\r\n",
        "\r\n",
        "а) $$\\lim_{n\\to \\infty} \\frac{(23-2n^2)(3n^2+17)^2}{4n^6+n-1} = \\Bigl(\\frac{\\infty}{\\infty}\\Bigr) = \\lim_{n\\to \\infty} \\frac{n^2 (-2+\\frac{23}{n^2}) n^4 (3 + \\frac{17}{n^2})^2}{n^6 (4 + \\frac{1}{n^5}-\\frac{1}{n^6})} =$$\r\n",
        "\r\n",
        "$$= \\lim_{n\\to \\infty} \\frac{(-2+\\frac{23}{n^2})(3 + \\frac{17}{n^2})^2}{(4 + \\frac{1}{n^5}-\\frac{1}{n^6})} = \\frac{-2 \\cdot 3^2}{4} = -\\frac{9}{2} $$\r\n",
        "\r\n",
        "б) $$\\lim_{n\\to \\infty} \\frac{(97-2n)^3}{2n(3n^2+15)+8n} = \\Bigl(\\frac{\\infty}{\\infty}\\Bigr) = \\lim_{n\\to \\infty} \\frac{n^3 (-2+\\frac{97}{n})^3}{2n^3 (3n+\\frac{15}{n^2}+\\frac{8}{n^2})} =$$\r\n",
        "\r\n",
        "$$= \\lim_{n\\to \\infty} \\frac{(-2+\\frac{97}{n})^3}{2 (3n+\\frac{15}{n^2}+\\frac{8}{n^2})} = \\frac{(-2)^3}{2 \\cdot 3} = -\\frac{4}{3} $$\r\n",
        "\r\n",
        "в) $$\\lim_{n\\to \\infty} \\frac{2n^3+13n(n+18)}{(27-n)(2n+19)^2} = \\Bigl(\\frac{\\infty}{\\infty}\\Bigr) = \\lim_{n\\to \\infty} \\frac{n^3 (2+\\frac{13}{n}(1+\\frac{18}{n}))}{n(-1+\\frac{27}{n}) n^2 (2+\\frac{19}{n})^2} = $$\r\n",
        "\r\n",
        "$$ = \\lim_{n\\to \\infty} \\frac{2+\\frac{13}{n}(1+\\frac{18}{n})}{(-1+\\frac{27}{n}) (2+\\frac{19}{n})^2} =\\frac{2}{-1\\cdot2^2} = \\frac{1}{2} $$\r\n",
        "\r\n",
        "г) $$\\lim_{n\\to \\infty} (\\sqrt{n^2+1}-n) = (\\infty - \\infty) = \\lim_{n\\to \\infty} \\frac{(\\sqrt{n^2+1}-n)(\\sqrt{n^2+1}+n)}{\\sqrt{n^2+1}+n} = \\lim_{n\\to \\infty} \\frac{n^2 + 1 - n^2}{n(\\sqrt{1+\\frac{1}{n^2}}+1)} =$$\r\n",
        "\r\n",
        "$$= \\lim_{n\\to \\infty} \\frac{1}{n(\\sqrt{1+\\frac{1}{n^2}}+1)} = 0$$\r\n",
        "\r\n",
        "д) $$ \\lim_{n\\to \\infty} \\frac{(-4)^n+5\\cdot7^n}{(-4)^{n-1}+7^{n+2}} = \\Bigl(\\frac{\\infty}{\\infty}\\Bigr) = \\lim_{n\\to \\infty} \\frac{7^n(5+\\frac{(-4)^n}{7^n}}{7^n(7^2 + \\frac{(-4)^{-1}(-4)^n)}{7^n})} = \\lim_{n\\to \\infty} \\frac{5+(-\\frac{4}{7})^n}{49 - \\frac{1}{4}(-\\frac{4}{7})^n} = \\frac{5}{49}$$\r\n",
        "\r\n",
        "е) $$\\lim_{n\\to \\infty} \\Bigl(\\frac{1}{1\\cdot2}+\\frac{1}{2\\cdot3}+\\frac{1}{3\\cdot4}+...+\\frac{1}{(n-1)\\cdot n}\\Bigr) = \\lim_{n\\to \\infty} \\Bigl(\\frac{2-1}{1\\cdot2}+\\frac{3-2}{2\\cdot3}+\\frac{4-3}{3\\cdot4}+...+\\frac{n-(n-1)}{(n-1)\\cdot n}\\Bigr) =$$\r\n",
        "$$= \\lim_{n\\to \\infty} \\Bigl((1-\\frac{1}{2})+(\\frac{1}{2} - \\frac{1}{3})+(\\frac{1}{3} - \\frac{1}{4})+...+(\\frac{1}{n-1} - \\frac{1}{n})\\Bigr) = \\lim_{n\\to \\infty}(1-\\frac{1}{n})=1$$\r\n",
        "\r\n"
      ]
    },
    {
      "cell_type": "markdown",
      "metadata": {
        "id": "rALX-77oPdRa"
      },
      "source": [
        " __2.__ Представьте $1$ в виде суммы трех рациональных дробей с разными знаменателями и числителем равным $1$.\r\n",
        " \r\n",
        "**Решение**\r\n",
        "\r\n",
        " $$\\frac{1}{2} + \\frac{1}{3} + \\frac{1}{6} = 1$$"
      ]
    },
    {
      "cell_type": "markdown",
      "metadata": {
        "id": "UpT7hMFmPdb8"
      },
      "source": [
        "__3$^*$.__ Тоже задание, только в виде суммы шести дробей.\r\n",
        "\r\n",
        "**Решение**\r\n",
        "\r\n",
        "$$\\frac{1}{2} + \\frac{1}{4} + \\frac{1}{10} + \\frac{1}{15} + \\frac{1}{20} + \\frac{1}{30} = 1$$\r\n",
        "\r\n",
        "$$\\frac{1}{2} + \\frac{1}{3} + \\frac{1}{15} + \\frac{1}{20} + \\frac{1}{30} + \\frac{1}{60} = 1$$\r\n",
        "\r\n",
        "$$\\frac{1}{3} + \\frac{1}{4} + \\frac{1}{5} + \\frac{1}{10} + \\frac{1}{15} + \\frac{1}{20} = 1$$"
      ]
    },
    {
      "cell_type": "markdown",
      "metadata": {
        "id": "JQKJQxKRg6l1"
      },
      "source": [
        "__4.__ Пользуясь критерием Коши, докажите сходимость последовательности:\r\n",
        "\r\n",
        "### $$a_n=\\frac{\\sin1}{2}+\\frac{\\sin2}{2^2}+\\frac{\\sin3}{2^3}+..\\frac{\\sin n}{2^n}\\,\\,\\,\\,\\,\\Rightarrow$$\r\n",
        "\r\n",
        "### $$\\Bigl\\{a_n\\Bigr\\}_{n=1}^\\infty=\\Bigl\\{\\frac{\\sin1}{2}, \\frac{\\sin1}{2}+\\frac{\\sin2}{2^2}, ..., a_n,...\\Bigr\\}$$\r\n",
        "\r\n",
        "\r\n",
        "$^*$ Какой член последовательности можно взять в качестве предела с точностью $\\varepsilon=10^{-7}$?\r\n",
        "\r\n",
        "**Решение**\r\n",
        "\r\n",
        "Фиксируем $\\varepsilon > 0 $. $|a_n-a_{n+k}| = |\\frac{sin(n+1)}{2^{n+1}} + \\frac{sin(n+2)}{2^{n+2}} + \\frac{sin(n+3)}{2^{n+3}} + ... + \\frac{sin(n+k)}{2^{n+k}}| \\leqslant \\frac{|sin(n+1)|}{2^{n+1}} + \\frac{|sin(n+2)|}{2^{n+2}} + \\frac{|sin(n+3)|}{2^{n+3}} + ... + \\frac{|sin(n+k)|}{2^{n+k}} =  \\frac{1}{2^n \\cdot 2} + \\frac{1}{2^n \\cdot 2^2} + \\frac{1}{2^n \\cdot 2^3} + ... + \\frac{1}{2^n \\cdot 2^k} < \\frac{1}{2^n} $\r\n",
        "\r\n",
        "Возьмем $N: -log_2 \\varepsilon < N $. Тогда $2^N > \\frac{1}{\\varepsilon}$, или $\\frac{1}{2^N} < \\varepsilon $. $ \\forall n > N \\,\\,\\, \\frac{1}{2^n} \\leqslant \\frac{1}{2^N} < \\varepsilon $\r\n",
        "\r\n",
        "Таким образом, на основании Критерия Коши, наша последовательность сходится. Заметим, что $2^{23} < 10^7 <2^{24}$. Таким образом, $\\forall n \\geqslant 24, \\forall k \\geqslant 1 \\,\\,\\, |a_n - a_{n-k}| < \\frac{1}{2^{24}} < 10^{-7}$, а значит $a_{24}$ можно взять в качестве предела нашей последовательности с точностью до $10^{-7}$."
      ]
    },
    {
      "cell_type": "markdown",
      "metadata": {
        "id": "gfCxXo07pbcX"
      },
      "source": [
        "__5$^*$.__  Пользуясь критерием Коши, докажите расходимость последовательности:\r\n",
        "\r\n",
        "### $$b_n=1+\\frac{1}{2}+\\frac{1}{3}+..\\frac{1}{n}\\,\\,\\,\\,\\,\\Rightarrow$$\r\n",
        "\r\n",
        "### $$\\Bigl\\{b_n\\Bigr\\}_{n=1}^\\infty=\\Bigl\\{1, 1+\\frac{1}{2},1+\\frac{1}{2}+\\frac{1}{3}, ..., b_n,...\\Bigr\\}$$\r\n",
        "\r\n",
        "**Решение**\r\n",
        "\r\n",
        "Положим $\\varepsilon = \\frac{1}{2}$. Фиксируем $N > 0$. Возьмем $n = 2^m: \\,\\,\\, log_2(N) \\leqslant m$, $k = n$. Тогда $|b_n - b_{n+k}| = |\\frac{1}{2^{m} +1} + \\frac{1}{2^{m} +2} ... +\\frac{1}{2 \\cdot 2^{m}}| < |\\frac{1}{2 \\cdot 2^{m}} + \\frac{1}{2 \\cdot 2^{m}} + \\frac{1}{2 \\cdot 2^{m}} + ... + \\frac{1}{2 \\cdot 2^{m}}| = \\frac{2^{m}}{2 \\cdot 2^{m}} = \\frac{1}{2} $ "
      ]
    },
    {
      "cell_type": "markdown",
      "metadata": {
        "id": "vIsB5pOcqzov"
      },
      "source": [
        "Пользуясь случаем, хотел бы обратить внимание на грубую ошибку в методичке:\r\n",
        "\r\n",
        "$$\\exists\\varepsilon>0\\,\\,\\,\\forall N(\\varepsilon), \\,\\,\\,\\exists n>N(\\varepsilon)\\,\\,\\,\\exists k\\geq1:|a_n-a_{n+k}|\\geq\\varepsilon$$\r\n",
        "\r\n",
        "В нашем случае $N$ от $\\varepsilon$ не зависит, он любое. Эта запись должна выглядеть так:\r\n",
        "\r\n",
        "$$\\exists\\varepsilon>0:\\,\\,\\,\\forall N>0 \\,\\,\\,\\exists n>N\\,\\,\\,\\exists k\\geq1:|a_n-a_{n+k}|\\geq\\varepsilon$$\r\n",
        "\r\n",
        "Опять же, условие задачи 5 некорректно сформулировано. Последовательность не расходится, она имеет бесконечный предел. Расходится последовательность $a_n = (-1)^n$, расходится ряд $\\sum_{n=1}^{\\infty}\\frac{1}{n}$, но никак не последовательность ${b_n}$\r\n"
      ]
    }
  ]
}