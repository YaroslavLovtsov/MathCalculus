{
  "nbformat": 4,
  "nbformat_minor": 0,
  "metadata": {
    "colab": {
      "name": "Lesson04.ipynb",
      "provenance": [],
      "collapsed_sections": []
    },
    "kernelspec": {
      "name": "python3",
      "display_name": "Python 3"
    }
  },
  "cells": [
    {
      "cell_type": "markdown",
      "metadata": {
        "id": "SmdURZ_OkVqQ"
      },
      "source": [
        "__1.__ Найти предел последовательности:\n",
        "\n",
        "### $$а)\\,\\,\\,\\,\\lim_{x\\to 6} \\frac{x^2-36}{x^2-x-30}$$\n",
        "\n",
        "### $$б)\\,\\,\\,\\,\\lim_{x\\to 7} \\frac{x^2-49}{x^2-13x+42}$$\n",
        "\n",
        "### $$в^*)\\,\\,\\,\\,\\lim_{x\\to 7} \\frac{\\sqrt{x+2}-\\sqrt[3]{x+20}}{\\sqrt[4]{x+9}-2}$$\n",
        "\n",
        "### $$г)\\,\\,\\,\\,\\lim_{x\\to 0} \\frac{3x\\,\\mbox{tg}\\,4x}{1-\\cos4x}$$\n",
        "\n",
        "### $$д^{**})\\,\\,\\,\\,\\lim_{x\\to 0} \\frac{\\sqrt2x^2\\sin4x}{(1-\\cos2x)^{\\frac{3}{2}}}$$\n",
        "\n",
        "### $$е)\\,\\,\\,\\,\\lim_{x\\to \\infty} \\Bigr(\\frac{4x}{4x+3}\\Bigl)^\\frac{5x^2}{7x-1}$$\n",
        "\n",
        "### $$ж^*)\\,\\,\\,\\,\\lim_{x\\to +0} \\frac{5^x-1}{x}$$\n",
        "\n",
        "### $$з^*)\\,\\,\\,\\,\\lim_{x\\to +\\infty} \\frac{\\ln(x^2-x+1)}{\\ln(x^{10}+x+1)}$$\n",
        "\n",
        "**Решение**\n",
        "\n",
        "### а)\n",
        "\n",
        " $$\\lim_{x\\to 6} \\frac{x^2-36}{x^2-x-30} = \\Bigr(\\frac{0}{0}\\Bigl)= \\lim_{x\\to 6} \\frac{(x+6)(x-6)}{(x+5)(x-6)}= \\lim_{x\\to 6} \\frac{x+6}{x+5} = \\frac{12}{11} $$\n",
        "\n",
        " ### б)\n",
        "\n",
        " $$\\lim_{x\\to 7} \\frac{x^2-49}{x^2-13x+42} = \\Bigr(\\frac{0}{0}\\Bigl)= \\lim_{x\\to 6} \\frac{(x+7)(x-7)}{(x-6)(x-7)}= \\lim_{x\\to 6} \\frac{x+7}{x-6} = 14 $$\n",
        "\n",
        " ### в*)\n",
        " $$\\lim_{x\\to 7} \\frac{\\sqrt{x+2}-\\sqrt[3]{x+20}}{\\sqrt[4]{x+9}-2} = \\lim_{x\\to 7} \\frac{(\\sqrt{x+2}-\\sqrt[3]{x+20})(x+2+\\sqrt{x+2}\\sqrt[3]{x+20}+\\sqrt[3]{(x+20)^2})}{(\\sqrt[4]{x+9}-2)(x+2+\\sqrt{x+2}\\sqrt[3]{x+20}+\\sqrt[3]{(x+20)^2})}=$$\n",
        "\n",
        " $$=\\lim_{x\\to 7} \\frac{(x+2)\\sqrt{x+2} - x - 20}{(\\sqrt[4]{x+9}-2)(\\sqrt[4]{x+9}+2)}\\cdot \\frac{\\sqrt[4]{x+9}+2}{(x+2+\\sqrt{x+2}\\sqrt[3]{x+20}+\\sqrt[3]{(x+20)^2})} = $$\n",
        "\n",
        " $$=\\lim_{x\\to 7} \\frac{\\sqrt[4]{x+9}+2}{(x+2+\\sqrt{x+2}\\sqrt[3]{x+20}+\\sqrt[3]{(x+20)^2})} \\cdot$$\n",
        " \n",
        " $$\\cdot \\frac{((x+2)\\sqrt{x+2} - x - 20)((x+2)\\sqrt{x+2} + x + 20)}{(\\sqrt{x+9}-4)(\\sqrt{x+9}+4)}\\cdot \\frac{(\\sqrt{x+9}+4)}{(x+2)\\sqrt{x+2} + x + 20} =$$\n",
        "\n",
        " $$=\\lim_{x\\to 7 }\\frac{(\\sqrt[4]{x+9}+2)(\\sqrt{x+9}+4)}{(x+2+\\sqrt{x+2}\\sqrt[3]{x+20}+\\sqrt[3]{(x+20)^2})((x+2)\\sqrt{x+2} + x + 20)}\\cdot$$\n",
        "\n",
        " $$\\cdot\\frac{(x+2)^3 - (x+20)^2}{x+9-16} = \\lim_{x\\to 7}\\frac{x^3+5x^2-28x-392}{x-7} \\cdot$$\n",
        "\n",
        " $$\\cdot\\frac{(\\sqrt[4]{x+9}+2)(\\sqrt{x+9}+4)}{(x+2+\\sqrt{x+2}\\sqrt[3]{x+20}+\\sqrt[3]{(x+20)^2})((x+2)\\sqrt{x+2} + x + 20)} = $$\n",
        "\n",
        " $$=\\lim_{x\\to 7 }\\frac{(\\sqrt[4]{x+9}+2)(\\sqrt{x+9}+4)(x^2+12x+56)}{(x+2+\\sqrt{x+2}\\sqrt[3]{x+20}+\\sqrt[3]{(x+20)^2})((x+2)\\sqrt{x+2} + x + 20)} = $$\n",
        "\n",
        " $$\\frac{4\\cdot8\\cdot189}{(9+9+9)(27+27)} = \\frac{112}{27}$$\n",
        "\n",
        " ### г)\n",
        " \n",
        " $$\\lim_{x\\to 0} \\frac{3x\\,\\mbox{tg}\\,4x}{1-\\cos4x} = \\lim_{x\\to 0} \\frac{3x\\cdot \\sin{4x}}{\\cos{4x}(\\cos^2{2x} + \\sin^2{2x}-\\cos^2{2x} + \\sin^2{2x})}= \\lim_{x\\to 0} \\frac{3x\\cdot \\sin{4x}}{2\\cos{4x}\\sin^2{2x}} = $$\n",
        " $$\\lim_{x\\to 0}\\frac{3x \\cdot 4x}{2(2x)^2} = \\frac{3}{2}$$\n",
        "\n",
        " ### д**)\n",
        "\n",
        " $$ \\lim_{x\\to 0} \\frac{\\sqrt2x^2\\sin4x}{(1-\\cos2x)^{\\frac{3}{2}}} = \\lim_{x\\to 0} \\frac{\\sqrt2x^2\\sin4x}{(2\\sin^2{x})^{\\frac{3}{2}}} = \\lim_{x\\to 0} \\frac{\\sqrt2x^2\\sin4x}{2\\sqrt{2}\\sin^3{x}} = \\lim_{x\\to 0} \\frac{\\sqrt2x^2\\cdot4x}{2\\sqrt{2}x^3} = 2$$\n",
        "\n",
        " ### е)\n",
        "\n",
        " $$ \\lim_{x\\to \\infty} \\Bigr(\\frac{4x}{4x+3}\\Bigl)^\\frac{5x^2}{7x-1} = \\lim_{x\\to\\infty}\\Bigr(1-\\frac{3}{4x+3}\\Bigl)^{-\\frac{4x+3}{3}\\cdot(-\\frac{3}{4x+3}\\cdot\\frac{5x^2}{7x-1})} = \\lim_{x\\to\\infty}e^{-\\frac{15x^2}{(4x+3)(7x-1)}} = e^{-\\frac{15}{28}}$$\n",
        "\n",
        " ### ж*)\n",
        " $$\\lim_{x\\to +0} \\frac{5^x-1}{x} = \\lim_{x\\to +0} \\frac{e^{x \\ln5}-1}{x} = \\lim_{x\\to +0} \\frac{x \\ln5}{x} = \\ln5 $$\n",
        "\n",
        " ### з*)\n",
        " \n",
        " $$\\lim_{x\\to +\\infty} \\frac{\\ln(x^2-x+1)}{\\ln(x^{10}+x+1)} = \\lim_{x\\to +\\infty} \\frac{\\ln x^2 + \\ln(1-\\frac{x-1}{x^2})}{\\ln x^{10} + \\ln(1+\\frac{x+1}{x^{10}})} =  \\lim_{x\\to +\\infty} \\frac{2\\ln x -\\ln(1-\\frac{x-1}{x^2}) }{10\\ln x + \\ln(1+\\frac{x+1}{x^{10}})} = $$\n",
        " \n",
        " $$= \\lim_{x\\to +\\infty} \\frac{2-\\frac{\\ln(1-\\frac{x-1}{x^2})}{\\ln x}}{10+\\frac{\\ln(1+\\frac{x+1}{x^{10}})}{\\ln x}} = \\frac{1}{5}$$\n",
        "\n"
      ]
    },
    {
      "cell_type": "markdown",
      "metadata": {
        "id": "cmq_YwFe2W-_"
      },
      "source": [
        "__2*.__ На языке Python предложить алгоритм вычисляющий численно предел последовательности\r\n",
        "\r\n",
        "### $$\\lim_{n\\to +\\infty} \\frac{n}{\\sqrt[n]{n!}}$$\r\n",
        "\r\n",
        "**Решение**\r\n",
        "\r\n",
        "Рассмотрим две последовательности $b_n = \\{\\frac{n^n}{n!}\\}$ и $a_n = \\{\\sqrt[n]{b_n}\\}$. Заметим, что $a_n = \\sqrt[n]{b_n} = \\sqrt[n]{\\frac{n^n}{n!}} = \\frac{n}{\\sqrt[n]{n!}}$, что совпадает с нашей исходной последовательностью. Имеем:\r\n",
        "\r\n",
        "$$\\frac{b_n}{b_{n-1}} = \\frac{\\frac{n^n}{n!}}{\\frac{(n-1)^{n-1}}{(n-1)!}} = \\frac{n^n}{n!} \\cdot \\frac{(n-1)!}{(n-1)^{n-1}} = (\\frac{n}{n-1})^{n-1} =\\frac{n-1}{n} \\cdot (\\frac{n}{n-1})^n $$\r\n",
        "\r\n",
        "$$a_{n-1} = \\sqrt[n-1]{b_{n-1}}, \\,\\,\\,b_{n-1} = a^{n-1}_{n-1}$$\r\n",
        "\r\n",
        "Таким образом,\r\n",
        "\r\n",
        "$$a_n = \\sqrt[n]{b_n} = \\frac{n}{n-1} \\cdot \\sqrt[n]{\\frac{n-1}{n} \\cdot b_{n-1}} = \\frac{n}{n-1} \\cdot \\sqrt[n]{\\frac{n-1}{n}} (a_{n-1})^{\\frac{n-1}{n}} = \\frac{n}{n-1} \\cdot \\sqrt[n]{\\frac{n-1}{n \\cdot a_{n-1}}} \\cdot a_{n-1} $$\r\n",
        "\r\n",
        "Данное соотношение справедливо при $n \\geqslant 2$. При $n = 1$ найдем $a_1$ отдельно: $a_1 = \\frac{1}{(1!)^{1/1}} = 1$ Полученным рекуррентным соотношением мы и воспользуемся для решения нашей задачи:"
      ]
    },
    {
      "cell_type": "code",
      "metadata": {
        "colab": {
          "base_uri": "https://localhost:8080/"
        },
        "id": "niiCIz5_2XpO",
        "outputId": "73687089-7455-41fa-b80b-76a65ff33d7a"
      },
      "source": [
        "a = 1\r\n",
        "m = 2\r\n",
        "\r\n",
        "VARIANT = 1\r\n",
        "\r\n",
        "if VARIANT == 0:\r\n",
        "  \r\n",
        "  # работает очень быстро, точность невысокая\r\n",
        "  \r\n",
        "  INTERVAL = 3085301\r\n",
        "  EPSILON = 1e-4\r\n",
        "\r\n",
        "elif VARIANT == 1:\r\n",
        "  \r\n",
        "  # работает дольше, точность выше\r\n",
        "  \r\n",
        "  INTERVAL = 50021449\r\n",
        "  EPSILON = 3e-07\r\n",
        "\r\n",
        "current_delta = 100\r\n",
        "current_delta1 = 1000\r\n",
        "delta = 1\r\n",
        "old_value = 2.71\r\n",
        "\r\n",
        "to_print_rest = True\r\n",
        "\r\n",
        "while (current_delta > EPSILON):\r\n",
        "  y = (((m-1) / (m * a)) ** (1/m)) * m / (m-1)\r\n",
        "  a = y * a\r\n",
        "      \r\n",
        "  to_check_delta = (m % INTERVAL == 0)\r\n",
        "  if to_check_delta:\r\n",
        "    current_delta = (a - old_value) * 100 / a\r\n",
        "    \r\n",
        "    delta = 100\r\n",
        "    old_value = a    \r\n",
        "  elif to_print_rest and a > 2.718281825:\r\n",
        "    to_print_rest = False\r\n",
        "  else:\r\n",
        "    current_delta = 100\r\n",
        "\r\n",
        "  m += 1\r\n",
        "\r\n",
        "print(a)\r\n"
      ],
      "execution_count": 3,
      "outputs": [
        {
          "output_type": "stream",
          "text": [
            "2.7182817704754103\n"
          ],
          "name": "stdout"
        }
      ]
    }
  ]
}