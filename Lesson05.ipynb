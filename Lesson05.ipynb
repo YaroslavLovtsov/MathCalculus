{
  "nbformat": 4,
  "nbformat_minor": 0,
  "metadata": {
    "colab": {
      "name": "Lesson05.ipynb",
      "provenance": [],
      "collapsed_sections": [
        "ZBBc9mB6j6ax",
        "-J3xlBshj8_E",
        "chwjR1g0j__G",
        "m1q-PlmYkC_e",
        "piu0QMCRkGEj",
        "FMxyWzBrkJMq",
        "jtg2NQM2kN-D"
      ]
    },
    "kernelspec": {
      "name": "python3",
      "display_name": "Python 3"
    }
  },
  "cells": [
    {
      "cell_type": "markdown",
      "metadata": {
        "id": "ZBBc9mB6j6ax"
      },
      "source": [
        "__1.__ Найти производную функции:\r\n",
        "\r\n",
        "### $$y=\\frac{1}{x}+\\frac{2}{x^2}-\\frac{5}{x^3}+\\sqrt x -\\sqrt[3]x+\\frac{3}{\\sqrt x}$$\r\n",
        "\r\n",
        "**Решение**\r\n",
        "\r\n",
        "$$(\\frac{1}{x}+\\frac{2}{x^2}-\\frac{5}{x^3}+\\sqrt x -\\sqrt[3]x+\\frac{3}{\\sqrt x})' = -\\frac{1}{x^2} + \\frac{2\\cdot(-2)}{x^3}-\\frac{5\\cdot(-3)}{x^4} + \\frac{1}{2\\sqrt{x}} - \\frac{1}{3\\sqrt[3]{x^2}} + 3(-\\frac{1}{2})\\frac{1}{x\\sqrt{x}} = $$\r\n",
        "\r\n",
        "$$ = -\\frac{1}{x^2} - \\frac{4}{x^3}+\\frac{15}{x^4} + \\frac{1}{2\\sqrt{x}} - \\frac{1}{3\\sqrt[3]{x^2}} - \\frac{3}{2x\\sqrt{x}} $$"
      ]
    },
    {
      "cell_type": "markdown",
      "metadata": {
        "id": "-J3xlBshj8_E"
      },
      "source": [
        "__2.__ Найти производную функции:\r\n",
        "\r\n",
        "### $$y=x \\cdot \\sqrt {1+x^2}$$\r\n",
        "\r\n",
        "**Решение**\r\n",
        "\r\n",
        "$$(x \\cdot \\sqrt {1+x^2})' = \\frac{\\sqrt {1+x^2} - x\\frac{2x}{2\\cdot\\sqrt{1+x^2}}}{1+x^2} = \\frac{1}{(1+x^2)^\\frac{3}{2}}$$"
      ]
    },
    {
      "cell_type": "markdown",
      "metadata": {
        "id": "chwjR1g0j__G"
      },
      "source": [
        "__3.__ Найти производную функции:\r\n",
        "\r\n",
        "### $$y= \\frac{2x}{1-x^2}$$\r\n",
        "\r\n",
        "**Решение**\r\n",
        "\r\n",
        "$$(\\frac{2x}{1-x^2})' = \\frac{2(1-x^2)-2x\\cdot(-2x))}{(1-x^2)^2} = \\frac{2+2x^2}{(1-x^2)^2}$$"
      ]
    },
    {
      "cell_type": "markdown",
      "metadata": {
        "id": "m1q-PlmYkC_e"
      },
      "source": [
        "__4*.__ Найти производную функции:\r\n",
        "\r\n",
        "### $$y=\\sqrt{x+ \\sqrt{x+\\sqrt x}}$$\r\n",
        "\r\n",
        "**Решение**\r\n",
        "\r\n",
        "$$(\\sqrt{x+ \\sqrt{x+\\sqrt x}})' = \\frac{1+\\frac{1+\\frac{1}{2\\sqrt{x}}}{2(x+\\sqrt x)}}{2(x+ \\sqrt{x+\\sqrt x})} = \\frac{1+\\frac{1+2\\sqrt{x}}{4\\sqrt{x}\\sqrt{x+\\sqrt{x}}}}{2(x+ \\sqrt{x+\\sqrt x})} = \\frac{1 + 2\\sqrt{x} + 4\\sqrt{x}\\sqrt{x+\\sqrt{x}}}{8\\sqrt{x}\\sqrt{x+\\sqrt{x}}\\sqrt{x+\\sqrt{x+\\sqrt{x}}}}$$"
      ]
    },
    {
      "cell_type": "markdown",
      "metadata": {
        "id": "piu0QMCRkGEj"
      },
      "source": [
        "__5.__ Найти производную функции:\r\n",
        "\r\n",
        "### $$y= \\ln(x+\\sqrt{x^2+1})$$\r\n",
        "\r\n",
        "**Решение**\r\n",
        "\r\n",
        "$$(\\ln(x+\\sqrt{x^2+1}))' = \\frac{1+\\frac{2x}{2\\sqrt{x^2+1}}}{x+\\sqrt{x^2+1}} = \\frac{x+\\sqrt{x^2+1}}{\\sqrt{x^2+1}(x+\\sqrt{x^2+1})} = \\frac{1}{\\sqrt{x^2+1}}$$"
      ]
    },
    {
      "cell_type": "markdown",
      "metadata": {
        "id": "FMxyWzBrkJMq"
      },
      "source": [
        "__6.__ Найти производную функции:\r\n",
        "\r\n",
        "### $$y=x \\cdot \\ln(x+\\sqrt{x^2+1})-\\sqrt{x^2+1}$$\r\n",
        "\r\n",
        " **Решение**\r\n",
        "\r\n",
        "$$(x \\cdot \\ln(x+\\sqrt{x^2+1})-\\sqrt{x^2+1})' = \\ln(x+\\sqrt{x^2+1})+\\frac{x}{\\sqrt{x^2+1}} -\\frac{2x}{2\\sqrt{x^2+1}} = \\ln(x+\\sqrt{x^2+1}) $$"
      ]
    },
    {
      "cell_type": "markdown",
      "metadata": {
        "id": "jtg2NQM2kN-D"
      },
      "source": [
        "__7*.__ Найти производную функции:\r\n",
        "\r\n",
        "### $$y=\\arcsin (\\sin x)$$\r\n",
        "\r\n",
        "**Решение**\r\n",
        "\r\n",
        "$$(\\arcsin (\\sin x))' = \\cos x \\cdot \\frac{1}{\\sqrt{1 - \\sin^2{x}}} = \\frac{\\cos x}{|\\cos x|} = sgn(\\cos x) = $$\r\n",
        "\r\n",
        "$$ = \\begin{cases}\r\n",
        "    \\,\\,\\,\\,\\,1 &\\text{$x \\in (-\\frac{\\pi}{2} + 2\\pi k,\\,\\,\\,\\,\\,\\frac{\\pi}{2} + 2\\pi k), \\,\\,\\,k \\in \\mathbb{Z}$}\\\\\r\n",
        "   -1 &\\text{$x \\in (\\,\\,\\,\\,\\,\\frac{\\pi}{2} + 2\\pi k,\\,\\,\\,\\frac{3 \\pi}{2} + 2\\pi k), \\,\\,\\,k \\in \\mathbb{Z}$}\r\n",
        " \\end{cases}$$\r\n",
        "\r\n",
        " В точках $x = \\frac{\\pi}{2} + \\pi k,\\,\\,\\,k \\in \\mathbb{Z}$ производная не существует."
      ]
    },
    {
      "cell_type": "markdown",
      "metadata": {
        "id": "KbLXoRLXkQsL"
      },
      "source": [
        "__8*.__ Вычислить приближенное значение: \r\n",
        "\r\n",
        "### $$\\sin(1^0)=\\sin\\Bigl(\\frac{\\pi}{180}\\Bigr)$$\r\n",
        "\r\n",
        "**Решение**\r\n",
        "\r\n",
        "$$f(x_0+\\Delta x) \\approx f(x_0) + \\Delta x\\cdot f'(x_0)$$\r\n",
        "\r\n",
        "При $x_0 = 0 \\,\\,\\, \\cos(x_0) = 1$, а значит  $\\sin(\\Delta x) \\approx \\Delta x$ а ответ можно было бы просто принять значение $\\frac{\\pi}{180}$. Однако, это слишком просто, и, получив формулу для синуса половинного аргумента, мы можем получить более точное значение.\r\n",
        "\r\n",
        "Пусть $y = \\sin\\frac{t}{2}, \\,\\,\\, x = \\sin t, \\,\\,\\,  t \\in [0,\\frac{\\pi}{2}]$. Тогда $2y \\cdot \\sqrt{1 - y^2} = x, \\,\\,\\,  y \\in [0,\\frac{\\sqrt{2}}{2}]$. Выразим $y$ через $x$:\r\n",
        "\r\n",
        "$$\\sqrt{1 - y^2} = \\frac{x}{2y}$$\r\n",
        "\r\n",
        "$$1 - y^2 = \\frac{x^2}{4y^2}$$\r\n",
        "\r\n",
        "$$ 4y^4-4y^2+x^2 = 0 $$\r\n",
        "\r\n",
        "Сделаем замену $y^2 = z$. Тогда $0 < z < 1$. Имеем\r\n",
        "\r\n",
        "$$4z^2 - 4z+x^2 = 0$$\r\n",
        "\r\n",
        "$$z_{1,2} = \\frac{2 \\pm \\sqrt{4-4x^2}}{4} = \\frac{1 \\pm \\sqrt {1-x^2}}{2}$$\r\n",
        "\r\n",
        "$$y_{1,2} = \\sqrt{\\frac{1 \\pm \\sqrt {1-x^2} }{2}}$$\r\n",
        "\r\n",
        "Но $y \\in [0,\\frac{\\sqrt{2}}{2}]$, и значит $y = \\sqrt{\\frac{1 - \\sqrt {1-x^2} }{2}}$.\r\n",
        "\r\n",
        "Зная, что $\\sin(\\frac{\\pi}{6}) = \\frac{1}{2}$, с помощью полученной формулы мы сможем найти значения синусов для $\\frac{\\pi}{12},\\frac{\\pi}{24},\\frac{\\pi}{48},\\frac{\\pi}{96},\\frac{\\pi}{192},...$. Зная, что $\\sin(\\frac{\\pi}{4}) = \\frac{\\sqrt{2}}{2}$, с помощью полученной формулы мы сможем найти значения синусов для $\\frac{\\pi}{8},\\frac{\\pi}{16},\\frac{\\pi}{32},\\frac{\\pi}{64},\\frac{\\pi}{128},\\frac{\\pi}{256},...$. Так как $\\frac{\\pi}{96} < \\frac{\\pi}{180} < \\frac{\\pi}{192}$, а также $\\frac{\\pi}{128} < \\frac{\\pi}{180} < \\frac{\\pi}{256}$, попробуем найти приближенные значения $\\sin(\\frac{\\pi}{180})$, взяв в формуле для приблииженного значения функции каждую из этих четырех точек. Расссмотрим эту формулу на примере точки $x_0 = \\frac{\\pi}{192} \\approx 0.01636246$. В этом случае, с помощью последовательного применения полученной нами формулы для синуса половинного угла, получим: $\\sin(\\frac{\\pi}{192}) \\approx 0.01636173$. Кроме того, $\\Delta x = (\\frac{\\pi}{180} - \\frac{\\pi}{192}) = \\frac{\\pi}{2880} \\approx 0.00109083, \\,\\,\\, \\sin'(x_0) = \\cos(x_0) = \\sqrt{1-\\sin^2({\\frac{\\pi}{192}})} \\approx 0.99986614$. Итак,\r\n",
        "\r\n",
        "$$\\sin(\\frac{\\pi}{180}) = \\sin(\\frac{\\pi}{192}+\\frac{\\pi}{2880}) \\approx \\sin(\\frac{\\pi}{192}) + \\frac{\\pi}{2880}\\cdot \\sqrt{1-\\sin^2({\\frac{\\pi}{192})}} \\approx 0.017452416388093767$$\r\n",
        "\r\n",
        "Сравним его с точным значением: $0.01745240643728351$. Если бы мы взяли банальное $\\sin(\\frac{\\pi}{180}) \\approx \\frac{\\pi}{180}$, мы бы получили следующее приближенное значение: $0.017453292519943295$. Таким образом, взяв в качестве $x_0 = \\frac{\\pi}{192}$ мы получили погрешность $10^{-8}$ вместо $8 \\cdot 10^{-7}$\r\n"
      ]
    },
    {
      "cell_type": "code",
      "metadata": {
        "colab": {
          "base_uri": "https://localhost:8080/"
        },
        "id": "ruIadNE-Cczp",
        "outputId": "f88d361e-8fe7-431d-888b-6667b724d3bc"
      },
      "source": [
        "import math\r\n",
        "\r\n",
        "def sin_1_2(x):\r\n",
        "  return math.sqrt((1-math.sqrt(1 - x*x)) / 2)\r\n",
        "\r\n",
        "def sin_next_halfs(x_0, n):\r\n",
        "  result = [x_0]\r\n",
        "  for i in range(n):\r\n",
        "    result.append(sin_1_2(result[-1]))\r\n",
        "  return result\r\n",
        "    \r\n",
        "sin_pi_6_next_halfs = sin_next_halfs(1/2, 5)\r\n",
        "sin_pi_4_next_halfs = sin_next_halfs(math.sqrt(2) / 2, 6)\r\n",
        "\r\n",
        "delta1 = math.pi * (1/96 - 1/180)\r\n",
        "delta2 = math.pi * (1/180 - 1/192)\r\n",
        "\r\n",
        "print('Это совсем банально (интерполируем от точки x = 0):', math.pi / 180)\r\n",
        "print('И еще четыре варианта: ')\r\n",
        "print('интерполируем от точки x = pi/96: ', sin_pi_6_next_halfs[4] - delta1 * math.sqrt(1 - sin_pi_6_next_halfs[4] * sin_pi_6_next_halfs[4]))\r\n",
        "print('интерполируем от точки x = pi/192:',sin_pi_6_next_halfs[5] + delta2 * math.sqrt(1 - sin_pi_6_next_halfs[5] * sin_pi_6_next_halfs[5]))\r\n",
        "\r\n",
        "delta3 = math.pi * (1/128 - 1/180)\r\n",
        "delta4 = math.pi * (1/180 - 1/256)\r\n",
        "\r\n",
        "print('интерполируем от точки x = pi/128:', sin_pi_4_next_halfs[5] - delta3 * math.sqrt(1 - sin_pi_4_next_halfs[5] * sin_pi_4_next_halfs[5]))\r\n",
        "print('интерполируем от точки x = pi/256:', sin_pi_4_next_halfs[6] + delta4 * math.sqrt(1 - sin_pi_4_next_halfs[6] * sin_pi_4_next_halfs[6]))\r\n",
        "\r\n",
        "print('Точное значение:                  ', math.sin(math.pi/180))\r\n",
        "\r\n",
        "print(math.pi / 192)\r\n",
        "print(math.pi / 2880)\r\n",
        "print(sin_pi_6_next_halfs[5])\r\n",
        "print(math.sqrt(1 - sin_pi_6_next_halfs[5] * sin_pi_6_next_halfs[5]))"
      ],
      "execution_count": 6,
      "outputs": [
        {
          "output_type": "stream",
          "text": [
            "Это совсем банально (интерполируем от точки x = 0): 0.017453292519943295\n",
            "И еще четыре варианта: \n",
            "интерполируем от точки x = pi/96:  0.017455628489295574\n",
            "интерполируем от точки x = pi/192: 0.017452416388093767\n",
            "интерполируем от точки x = pi/128: 0.017452963932627602\n",
            "интерполируем от точки x = pi/256: 0.017452594349206783\n",
            "Точное значение:                   0.01745240643728351\n",
            "0.016362461737446838\n",
            "0.001090830782496456\n",
            "0.01636173162648617\n",
            "0.9998661379095618\n"
          ],
          "name": "stdout"
        }
      ]
    },
    {
      "cell_type": "markdown",
      "metadata": {
        "id": "a6OB1OS8kRV3"
      },
      "source": [
        "__9**.__ Написать на python алгоритм, по вычислению значений $\\sin(x)$ для $х \\in[0, 30^0]$\r\n",
        "\r\n",
        "Для проверки подойдут данные из таблицы Брадиса\r\n",
        "\r\n",
        "**Решение**\r\n",
        "\r\n",
        "Воспользуемся функцией sin_1_2, реализованной в предыдущем примере. Для поиска значения нужного нам угла будем делить отрезок $[0, 30^0]$ на две части, и смотреть, в какой из половинок лежит наш угол. Если угол и лежит в середине отрезка - значение его синуса фактически найдено. Зная синусы углов на концах отрезка, мы легко можем найти синус полусуммы этих углов с помощью формулы сложения для синусов\r\n",
        "\r\n",
        "$$\\sin(\\alpha+\\beta) = \\sin(\\alpha)\\cos(\\beta) + \\cos(\\alpha)\\sin(\\beta),$$\r\n",
        "\r\n",
        "и формулы половинного угла, которую мы вывели в прошлом примере. Далее в качестве отрезка возьмем ту из половинок, к которой принадлежит наш искомый угол. Снова применим наш алгоритм. И так далее, до тех пор, пока разность нашего угла и левой границы отрезка станет меньшей, чем $\\frac{\\pi}{10000}$. После этого и применим формулу для приближенного значения с помощью производной."
      ]
    },
    {
      "cell_type": "code",
      "metadata": {
        "colab": {
          "base_uri": "https://localhost:8080/"
        },
        "id": "BHeJyIC7yGIj",
        "outputId": "e3318b0a-329d-47a2-ac82-89c894edc211"
      },
      "source": [
        "alpha_str = input(\"Введите угол в градусах, от 0 до 30: \")\r\n",
        "alpha = int(alpha_str)\r\n",
        "\r\n",
        "def half_sum_sin(beta, gamma):\r\n",
        "  return sin_1_2(beta * math.sqrt(1-gamma * gamma) + gamma * math.sqrt(1 - beta * beta))\r\n",
        "\r\n",
        "def intepr_sin(psi,left,right,left_sin,right_sin):\r\n",
        "  if psi - left < math.pi / 10000:\r\n",
        "    return left_sin + (psi - left) * math.sqrt(1 - left_sin * left_sin)\r\n",
        "  else:\r\n",
        "    hi = (right + left) / 2\r\n",
        "    hi_sin = half_sum_sin(left_sin, right_sin)\r\n",
        "    if psi > hi:\r\n",
        "      return intepr_sin(psi,hi,right,hi_sin,right_sin)\r\n",
        "    elif psi < hi:\r\n",
        "      return intepr_sin(psi,left,hi,left_sin,hi_sin)\r\n",
        "    else:\r\n",
        "      return hi_sin\r\n",
        "\r\n",
        "\r\n",
        "if alpha > 30 or alpha < 0:\r\n",
        "  print('Ввод некорректен')\r\n",
        "else:\r\n",
        "  phi = alpha * math.pi / 180\r\n",
        "\r\n",
        "  print('Рассчитанное значение: ', intepr_sin(phi,0,math.pi/6,0,1/2))\r\n",
        "  print('Точное значение: ', math.sin(phi))\r\n",
        "\r\n"
      ],
      "execution_count": 17,
      "outputs": [
        {
          "output_type": "stream",
          "text": [
            "Введите угол в градусах, от 0 до 30: 10\n",
            "Рассчитанное значение:  0.1736488167143597\n",
            "Точное значение:  0.17364817766693033\n"
          ],
          "name": "stdout"
        }
      ]
    }
  ]
}