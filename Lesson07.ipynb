{
  "nbformat": 4,
  "nbformat_minor": 0,
  "metadata": {
    "colab": {
      "name": "Lesson07.ipynb",
      "provenance": [],
      "collapsed_sections": []
    },
    "kernelspec": {
      "name": "python3",
      "display_name": "Python 3"
    }
  },
  "cells": [
    {
      "cell_type": "markdown",
      "metadata": {
        "id": "iYAsClVgIjYb"
      },
      "source": [
        "__1.__ Найти частные производные первого и второго порядка. Убедиться в равенстве смешанных производных.\r\n",
        "\r\n",
        "### $$U=x^3+3xy^2+z^2-39x-36y+2z+26$$\r\n",
        "\r\n",
        "**Решение**\r\n",
        "\r\n",
        "$$\\frac{\\partial U}{\\partial x} = 3x^2 + 3y^2-39, \\frac{\\partial U}{\\partial y} = 6xy - 36, \\frac{\\partial U}{\\partial z} = 2z + 2$$\r\n",
        "\r\n",
        "$$\\frac{\\partial^2 U}{\\partial x^2} = 6x, \\frac{\\partial^2 U}{\\partial x \\partial y} = 6y, \\frac{\\partial^2 U}{\\partial x \\partial z} = 0$$\r\n",
        "\r\n",
        "$$\\frac{\\partial^2 U}{\\partial y \\partial x} = 6y, \\frac{\\partial^2 U}{\\partial y^2} = 6x, \\frac{\\partial^2 U}{\\partial y \\partial z} = 0$$\r\n",
        "\r\n",
        "$$\\frac{\\partial^2 U}{\\partial z \\partial x} = 0, \\frac{\\partial^2 U}{\\partial z \\partial y} = 0, \\frac{\\partial^2 U}{\\partial z^2} = 2$$"
      ]
    },
    {
      "cell_type": "markdown",
      "metadata": {
        "id": "IUcodWj4JBtA"
      },
      "source": [
        "__2.__ Найти частные производные первого и второго порядка. Убедиться в равенстве смешанных производных.\r\n",
        "\r\n",
        "### $$U=\\frac{256}{x}+\\frac{x^2}{y}+\\frac{y^2}{z}+z^2$$\r\n",
        "\r\n",
        "**Решение**\r\n",
        "\r\n",
        "$$\\frac{\\partial U}{\\partial x} = -\\frac{256}{x^2} + \\frac{2x}{y}, \\,\\,\\, \\frac{\\partial U}{\\partial y} = -\\frac{x^2}{y^2}+\\frac{2y}{z},  \\,\\,\\, \\frac{\\partial U}{\\partial z} = 2z - \\frac{y^2}{z^2}$$\r\n",
        "\r\n",
        "$$\\frac{\\partial^2 U}{\\partial x^2} = \\frac{512}{x^3} + \\frac{2}{y},  \\,\\,\\,\\,\\,\\,\\,\\,\\,\\,\\,  \\frac{\\partial^2 U}{\\partial x \\partial y} = -\\frac{2x}{y^2},  \\,\\,\\,\\,\\,\\,\\,\\,\\,\\,\\,  \\frac{\\partial^2 U}{\\partial x \\partial z} = 0$$\r\n",
        "\r\n",
        "$$\\frac{\\partial^2 U}{\\partial y \\partial x} = -\\frac{2x}{y^2}, \\,\\,\\,\\, \\frac{\\partial^2 U}{\\partial y^2} = \\frac{2x^2}{y^3} + \\frac{2}{z}, \\,\\,\\,\\, \\frac{\\partial^2 U}{\\partial y \\partial z} = -\\frac{2y}{z^2}$$\r\n",
        "\r\n",
        "$$\\frac{\\partial^2 U}{\\partial z \\partial x} = 0, \\,\\,\\,\\,\\,\\, \\frac{\\partial^2 U}{\\partial z \\partial y} = -\\frac{2y}{z^2}, \\,\\,\\,\\,\\,\\,\\,\\, \\frac{\\partial^2 U}{\\partial z^2} = 2 + \\frac{2y^2}{z^3}$$"
      ]
    },
    {
      "cell_type": "markdown",
      "metadata": {
        "id": "4ozJBS-iOUSX"
      },
      "source": [
        "__3.__ Найти производную функции $U=x^2+y^2+z^2$ по направлению вектора $\\overrightarrow{c}(-9,8,-12)$ в точке $M(8,-12,9)$\r\n",
        "\r\n",
        "**Решение**\r\n",
        "\r\n",
        "$$\\overrightarrow{c_0} = \\frac{\\overrightarrow{c}}{|\\overrightarrow{c}|} = \\frac{1}{\\sqrt{9^2+8^2+12^2}}\\Bigl(-9,8,-12\\Bigr) = \\Bigl(-\\frac{9}{17},\\frac{8}{17},-\\frac{12}{17}\\Bigr)$$\r\n",
        "\r\n",
        "$$\\frac{\\partial U}{\\partial x} = 2x, \\,\\,\\, \\frac{\\partial U}{\\partial y} = 2y, \\,\\,\\, \\frac{\\partial U}{\\partial z} = 2z $$\r\n",
        "\r\n",
        "$$\\overrightarrow{\\nabla} U|_M = \\Bigl(2 \\cdot 8, 2 \\cdot (-12), 2 \\cdot 9\\Bigr) = \\Bigl(16,-24,18 \\Bigr) $$\r\n",
        "\r\n",
        "$$U'_{\\overrightarrow{c}}|_M = \\Bigl(\\overrightarrow{\\nabla} U|_M  \\cdot \\overrightarrow{c_0}\\Bigr) = -\\frac{16 \\cdot 9}{17}-\\frac{8 \\cdot 24}{17}-\\frac{12 \\cdot 18}{17} = -\\frac{552}{17}$$"
      ]
    },
    {
      "cell_type": "markdown",
      "metadata": {
        "id": "1xWwE4eLOcbQ"
      },
      "source": [
        "__4.__ Найти производную функции $U=e^{x^2+y^2+z^2}$ по направлению вектора $\\overrightarrow{c}(4,-13,-16)$ в точке $L(-16,4,-13)$\r\n",
        "\r\n",
        "**Решение**\r\n",
        "\r\n",
        "$$\\overrightarrow{c_0} = \\frac{\\overrightarrow{c}}{|\\overrightarrow{c}|} = \\frac{1}{\\sqrt{4^2+13^2+16^2}}\\Bigl(4,-13,-16\\Bigr) = \\Bigl(\\frac{4}{21},-\\frac{13}{21},-\\frac{16}{21}\\Bigr)$$\r\n",
        "\r\n",
        "$$\\frac{\\partial U}{\\partial x} = 2x \\cdot e^{x^2+y^2+z^2}, \\,\\,\\, \\frac{\\partial U}{\\partial y} = 2y \\cdot e^{x^2+y^2+z^2}, \\,\\,\\, \\frac{\\partial U}{\\partial z} = 2z \\cdot e^{x^2+y^2+z^2} $$\r\n",
        "\r\n",
        "$$\\overrightarrow{\\nabla} U|_L = \\Bigl(2 \\cdot (-16) \\cdot e^{441}, 2 \\cdot 4 \\cdot e^{441}, 2 \\cdot (-13) \\cdot e^{441}\\Bigr) = \\Bigl(-32 \\cdot e^{441},8 \\cdot e^{441},-26 \\cdot e^{441} \\Bigr) $$\r\n",
        "\r\n",
        "$$U'_{\\overrightarrow{c}}|_L = \\Bigl(\\overrightarrow{\\nabla} U|_L  \\cdot \\overrightarrow{c_0}\\Bigr) = -\\frac{32 \\cdot 4}{21}\\cdot e^{441}-\\frac{13 \\cdot 8}{21}\\cdot e^{441}+\\frac{26 \\cdot 16}{21}\\cdot e^{441} = \\frac{184}{21}\\cdot e^{441}$$"
      ]
    },
    {
      "cell_type": "markdown",
      "metadata": {
        "id": "Q_T8QYBOeA7q"
      },
      "source": [
        "__5*.__ Найти производную функции $U=\\log_{21}(x^2+y^2+z^2)$ в точке $F(-19,8,-4)$ по самому быстрому направлению.\r\n",
        "\r\n",
        "**Решение**\r\n",
        "\r\n",
        "$$\\frac{\\partial U}{\\partial x} = \\frac{2x}{(x^2+y^2+z^2)\\ln 21}, \\,\\,\\, \\frac{\\partial U}{\\partial y} = \\frac{2y}{(x^2+y^2+z^2)\\ln 21}, \\,\\,\\, \\frac{2z}{(x^2+y^2+z^2)\\ln 21} $$\r\n",
        "\r\n",
        "$$\\overrightarrow{\\nabla} U|_F = \\Bigl(\\frac{2 \\cdot (-19)}{(19^2+8^2+4^2)\\ln 21 }, \\frac{2 \\cdot 8}{(19^2+8^2+4^2)\\ln 21 }, \\frac{2 \\cdot (-4)}{(19^2+8^2+4^2)\\ln 21 }\\Bigr) = \\Bigl(-\\frac{38}{441 \\cdot \\ln 21} ,\\frac{16}{441 \\cdot \\ln 21},-\\frac{8}{441 \\cdot \\ln 21} \\Bigr) $$\r\n",
        "\r\n",
        "$$\\overrightarrow{\\nabla_0} U|_F = \\frac{\\overrightarrow{\\nabla} U|_F}{|\\overrightarrow{\\nabla} U|_F|}=  = \\frac{\\frac{2}{441 \\cdot \\ln 21}}{\\frac{2}{441 \\cdot \\ln 21}(19^2+8^2+4^2)}\\Bigl(-19,8,-4\\Bigr) = (-\\frac{19}{21},\\frac{8}{21},-\\frac{4}{21})$$\r\n",
        "\r\n",
        "$$U'_{\\overrightarrow{\\nabla} U}|_F = \\Bigl(\\overrightarrow{\\nabla} U|_F  \\cdot \\overrightarrow{\\nabla_0} U|_F\\Bigr) = \\frac{2}{441 \\cdot \\ln 21}(19^2+8^2+4^2) = \\frac{2}{\\ln 21}$$\r\n",
        "\r\n"
      ]
    },
    {
      "cell_type": "markdown",
      "metadata": {
        "id": "8QtZUoqPwgj4"
      },
      "source": [
        "__6.__ Исследовать на экстремум функцию:\r\n",
        "\r\n",
        "### $$U=x^2y+\\frac{1}{3}y^3+2x^2+3y^2-1$$\r\n",
        "\r\n",
        "**Решение**\r\n",
        "\r\n",
        "$$\\frac{\\partial U}{\\partial x} = 2xy+4x = 2x(y + 2), \\,\\,\\,\\, \\frac{\\partial U}{\\partial y} = x^2+y^2 + 6y $$\r\n",
        "\r\n",
        "$$\\frac{\\partial^2 U}{\\partial x^2} = 2y, \\,\\,\\,\\, \\frac{\\partial^2 U}{\\partial x \\partial y} = 2x, \\frac{\\partial^2 U}{\\partial y^2} = 2y + 6 $$\r\n",
        "\r\n",
        "Найдем решения системы $\\frac{\\partial U}{\\partial x} = 0, \\frac{\\partial U}{\\partial y} = 0$:\r\n",
        "\r\n",
        "1) $x = 0, \\,\\,\\,\\, y = 0$\r\n",
        "\r\n",
        "$$d^2U = 6 (dy)^2 \\geqslant 0 \\,\\,\\,\\, \\forall dx, dy $$\r\n",
        "\r\n",
        "Точка (0,0) является точкой минимума \r\n",
        "\r\n",
        "2) $x = 0, \\,\\,\\,\\, y = -6$\r\n",
        "\r\n",
        "$$d^2U = - 12 (dx)^2 - 6 (dy)^2 \\leqslant 0 \\,\\,\\,\\, \\forall dx, dy $$\r\n",
        "\r\n",
        "Точка (0,-3) является точкой максимума \r\n",
        "\r\n",
        "3) $x = 2\\sqrt{2}, \\,\\,\\,\\, y = -2$\r\n",
        "\r\n",
        "$$d^2U = - 4 (dx)^2 + 8dxdy - 2 (dy)^2 = -(2dx-2dy)^2 + 2(dy)^2 $$\r\n",
        "\r\n",
        "Знак $d^2U$ может быть любым. Точка $(2,-2)$ является седловой.\r\n",
        "\r\n",
        "4) $x = -2\\sqrt{2}, \\,\\,\\,\\, y = -2$\r\n",
        "\r\n",
        "$$d^2U = - 4 (dx)^2 - 8dxdy - 2 (dy)^2 = -(2dx+2dy)^2 + 2(dy)^2 $$\r\n",
        "\r\n",
        "Знак $d^2U$ может быть любым. Точка $(2,-2)$ является седловой."
      ]
    },
    {
      "cell_type": "markdown",
      "metadata": {
        "id": "yGgmAtOa4qk5"
      },
      "source": [
        "__7*.__ Исследовать на экстремум функцию:\r\n",
        "\r\n",
        "### $$U=e^{-\\frac{x}{2}}\\cdot(x^2+y^2)$$\r\n",
        "\r\n",
        "**Решение**\r\n",
        "\r\n",
        "$$\\frac{\\partial U}{\\partial x} = (-\\frac{1}{2}x^2 + 2x -\\frac{1}{2}y^2) \\cdot  e^{-\\frac{x}{2}} , \\,\\,\\,\\, \\frac{\\partial U}{\\partial y} = 2y \\cdot e^{-\\frac{x}{2}} $$\r\n",
        "\r\n",
        "$$\\frac{\\partial^2 U}{\\partial x^2} = (\\frac{1}{4}x^2 - 2x + 2 + \\frac{1}{4}y^2) \\cdot  e^{-\\frac{x}{2}}, \\,\\,\\,\\, \\frac{\\partial^2 U}{\\partial x \\partial y} = -y \\cdot e^{-\\frac{x}{2}}, \\frac{\\partial^2 U}{\\partial y^2} = 2 \\cdot e^{-\\frac{x}{2}} $$\r\n",
        "\r\n",
        "Найдем решения системы $\\frac{\\partial U}{\\partial x} = 0, \\frac{\\partial U}{\\partial y} = 0$:\r\n",
        "\r\n",
        "$$\\begin{cases}\r\n",
        "\r\n",
        "-\\frac{1}{2}\\Bigl((x-2)^2+y^2 - 4\\Bigr) = 0\\\\\r\n",
        "2y = 0\r\n",
        "\r\n",
        "\\end{cases}$$\r\n",
        "\r\n",
        "Данная система имеет 2 решения:\r\n",
        "\r\n",
        "1) $x = 0, \\,\\,\\, y = 0$:\r\n",
        "\r\n",
        "$$d^2U = 2(dx)^2 + 2(dy)^2 \\geqslant 0 \\,\\, \\forall dx,dy.$$\r\n",
        "\r\n",
        "Точка $(0,0)$ является точкой минимума.\r\n",
        "\r\n",
        "2) $x = 4, \\,\\,\\, y = 0$\r\n",
        "\r\n",
        "$$d^2U = -2(dx)^2 + 2(dy)^2$$\r\n",
        "\r\n",
        "Знак $d^2U$ может быть любым. Точка $(4,0)$ является седловой"
      ]
    }
  ]
}