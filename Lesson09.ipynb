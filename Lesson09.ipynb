{
  "nbformat": 4,
  "nbformat_minor": 0,
  "metadata": {
    "colab": {
      "name": "Lesson_09.ipynb",
      "provenance": [],
      "collapsed_sections": [
        "a-3FX1iCuPV3"
      ]
    },
    "kernelspec": {
      "name": "python3",
      "display_name": "Python 3"
    }
  },
  "cells": [
    {
      "cell_type": "markdown",
      "metadata": {
        "id": "a-3FX1iCuPV3"
      },
      "source": [
        "__1.__ Вычислить неопределенный интеграл\r\n",
        "\r\n",
        "### $$\\int \\frac{2x+3}{(x-2)(x+5)}\\,dx$$\r\n",
        "\r\n",
        "**Решение**\r\n",
        "\r\n",
        "Пусть $\\frac{2x+3}{(x-2)(x+5)} = \\frac{A}{x-2} + \\frac{B}{x+5} = \\frac{A(x+5) + B(x-2)}{(x-2)(x+5)} = \\frac{(A+B)x + (5A-2B)}{(x-2)(x+5)}$.\r\n",
        "\r\n",
        "Решая систему уравнений, находим, что $A = 1, B = 1$.\r\n",
        "\r\n",
        "$$\\int \\frac{2x+3}{(x-2)(x+5)}dx = \\int\\frac{dx}{x-2} + \\int\\frac{dx}{x+5} = \\ln |C(x-2)(x+5)|$$ "
      ]
    },
    {
      "cell_type": "markdown",
      "metadata": {
        "id": "YcbDZlzpuQer"
      },
      "source": [
        "__2.__ Вычислить неопределенный интеграл\r\n",
        "\r\n",
        "### $$\\int e^{2x}\\cos 3x\\,dx$$\r\n",
        "\r\n",
        "Решение.\r\n",
        "\r\n",
        "Обозначим искомый интеграл $I$. Тогда\r\n",
        "\r\n",
        "$$I = \\int e^{2x}\\cos 3x\\, dx = \\begin{vmatrix} u = e^{2x} & du = 2e^{2x}dx \\\\ dv= \\cos3x \\, dx & v = \\frac{1}{3}\\sin 3x \\end{vmatrix} = \\frac{1}{3}e^{2x}\\sin 3x - \\frac{2}{3}\\int e^{2x}\\sin 3xdx = $$\r\n",
        "\r\n",
        "$$ = \\begin{vmatrix} u = e^{2x} & du = 2e^{2x}dx \\\\ dv= \\sin 3x \\, dx & v = -\\frac{1}{3}\\cos 3x \\end{vmatrix} =  \\frac{1}{3}e^{2x}\\sin 3x + \\frac{2}{9}e^{2x}\\cos 3x +\\frac{4}{9} \\int e^{2x}\\cos 3x\\, dx =$$\r\n",
        "\r\n",
        "$$= \\frac{1}{3}e^{2x}\\sin 3x + \\frac{2}{9}e^{2x}\\cos 3x +\\frac{4}{9} I $$\r\n",
        "\r\n",
        "$$\\frac{13}{9} I= \\frac{1}{9}e^{2x}(3 \\sin 3x + 2 \\cos 3x)$$\r\n",
        "\r\n",
        "$$\\int e^{2x}\\cos 3x\\,dx = \\frac{3 \\sin 3x + 2 \\cos 3x}{13}e^{2x} + C $$\r\n",
        "\r\n",
        "Второй способ:\r\n",
        "\r\n",
        "Пусть $I = \\int e^{2x}\\cos 3x\\, dx,\\,\\,\\, J = \\int e^{2x}\\sin 3x\\, dx$. Тогда:\r\n",
        "\r\n",
        "$$I + iJ = \\int e^{2x} \\cos 3x \\, dx + i\\int e^{2x} \\sin 3x \\, dx = \\int e^{2x} (\\cos 3x + i \\sin 3x) dx = \\int e^{(2+3i)x} dx = \\frac{1}{2 + 3i} e^{(2+3i)x} = \\frac{2-3i}{13} e^{2x} (\\cos 3x + i \\sin 3x) = \\frac{2 \\cos 3x + 3 \\sin 3x}{13} e^{2x} + i  \\frac{2 \\sin 3x - 3 \\cos 3x}{13} e^{2x}$$\r\n",
        "\r\n",
        "Поскольку $I,J \\in \\mathbb R$:\r\n",
        "\r\n",
        "$$\\int e^{2x}\\cos 3x\\,dx = \\frac{3 \\sin 3x + 2 \\cos 3x}{13}e^{2x} + C $$\r\n",
        "\r\n",
        "$$\\int e^{2x}\\sin 3x\\,dx = \\frac{2 \\sin 3x - 3 \\cos 3x}{13}e^{2x} + C $$"
      ]
    },
    {
      "cell_type": "markdown",
      "metadata": {
        "id": "aNqJ_7_L0_Nq"
      },
      "source": [
        "__3.__ Вычислить определенный интеграл\r\n",
        "\r\n",
        "### $$\\int\\limits_0^{\\ln2} xe^{-x}\\,dx$$\r\n",
        "\r\n",
        "**Решение** \r\n",
        "\r\n",
        "$$\\int\\limits_0^{\\ln2} xe^{-x}\\,dx = \\begin{vmatrix} u = x && du = dx\\\\ dv = e^{-x}dx && v = -e^{-x}\\end{vmatrix} = -xe^{-x}\\bigg|_0^{\\ln 2} + \\int\\limits_0^{\\ln 2} e^{-x}dx = -\\frac{1}{2}\\ln 2 + \\Bigl(-e^{-x}\\bigg|_0^{\\ln 2}\\Bigr) = \\frac{1}{2}(1 - \\ln 2) $$"
      ]
    },
    {
      "cell_type": "markdown",
      "metadata": {
        "id": "iz5ojjDjG7NV"
      },
      "source": [
        "__4.__ Вычислить несобственный интеграл\r\n",
        "\r\n",
        "### $$\\int\\limits_2^{+\\infty} \\frac{dx}{x^2+x-2}$$\r\n",
        "\r\n",
        "**Решение**\r\n",
        "\r\n",
        "$$\\int\\limits_2^{+\\infty} \\frac{dx}{x^2+x-2} = \\frac{1}{3} \\int\\limits_2^{+\\infty} (\\frac{1}{x-1} - \\frac{1}{x+2})dx = \\frac{1}{3}\\ln\\frac{x-1}{x+2}\\bigg|_{2}^{+\\infty} = -\\frac{1}{3} \\ln \\frac{1}{4} + \\lim\\limits_{x \\to +\\infty}\\frac{x-1}{x+2} = \\frac{1}{3}\\ln 4$$"
      ]
    },
    {
      "cell_type": "markdown",
      "metadata": {
        "id": "ExKW7caBuQpk"
      },
      "source": [
        "__5*.__ Вычислить несобственный интеграл\r\n",
        "\r\n",
        "### $$\\int\\limits_0^{1} \\ln x\\,dx$$\r\n",
        "\r\n",
        "**Решение**\r\n",
        "\r\n",
        "Найдем сначала следующий предел (воспользуемся для этого правилом Лопиталя):\r\n",
        "\r\n",
        "$$\\lim\\limits_{x \\to +0}x\\ln x = (0 \\cdot \\infty) = \\lim\\limits_{x \\to +0}\\frac{\\ln x}{\\frac{1}{x}} = (\\frac{\\infty}{\\infty}) = \\lim\\limits_{x \\to +0}\\frac{\\frac{1}{x}}{-\\frac{1}{x^2}} = \\lim\\limits_{x \\to +0}(-x) = 0$$\r\n",
        "\r\n",
        "Воспользуемся полученным результатом для нахождения искомого интеграла:\r\n",
        "\r\n",
        "$$\\int\\limits_0^{1} \\ln x\\,dx = \\begin{vmatrix} u = \\ln x && du = \\frac{dx}{x}\\\\ dv = dx && v = x\\end{vmatrix} = x \\ln x \\bigg|_0^1 - \\int\\limits_0^1 dx = - \\int\\limits_0^1 dx = -1 $$"
      ]
    }
  ]
}